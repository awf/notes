{
 "cells": [
  {
   "cell_type": "markdown",
   "metadata": {},
   "source": [
    "## Exploring saturation\n",
    "\n",
    "An important computation in machine learning is dot product.\n",
    "In the context of 8-bit floating point, dot products typically take float8 operands and return a higher precision result (e.g. float16), in which the summation is also evaluated.\n",
    "Given the narrow dynamic range of float16, and the relatively large vector sizes in modern models (2K-12K), it is likely that some of these dot products will overflow the float16 dynamic range.  And even if the value `dot(a,b)` is within the finite range for some vectors `a` and `b`, it is possible for the result to overflow during computation.\n",
    "As a simple example, if the partial sums are\n",
    "```\n",
    "[a a a a -a -a -a -a],\n",
    "```\n",
    "for a large finite value `a`, and if the vector is accumulated sequentially, the sum of four `a`s may overflow, \n",
    "even though the result is zero, perfectly in range.\n",
    "\n",
    "Therefore, hardware implementations provide several options to treat overflow, even in float16: saturation, NaN on overflow, and overflow to infinity.\n",
    "\n",
    "More precisely, if `v` in the following is the real value to be converted, rounded to the float16 significand precision, but with infinite-range exponent,\n",
    "we can specify these behaviours by defining what is returned when `abs(v) > FLOAT_MAX`:\n",
    "\n",
    "  - `OvSAT`: Saturation: `return sign(v)*FLOAT_MAX`\n",
    "  - `OvNAN`: NaN on overflow: `return NaN`\n",
    "  - `OvINF`: Infinity: `return sign(v)*Inf`\n",
    "\n",
    "##### OvSAT \n",
    "\n",
    "A critique of `OvSAT` is that it may produce results that are arbitrarily wrong, as overflows early in accumulation may be silently ignored.\n",
    "As an extreme example, consider an 8-bit format `float8` where the value `f = 224` is in the finite range.\n",
    "Then the value `F = f * f = 50176.0` is close to `F16MAX = 65504.0 = float16.FLOAT_MAX`, and `F + F` is certainly larger than `F16MAX`.\n",
    "\n",
    "Consider the dot product of the 4-vectors `a = [ f -f  f -f]`, `b = [f f f f]`.\n",
    "\n",
    "Evaluated left-to-right, the result is\n",
    "```\n",
    "   ((f*f - f*f) + f*f) - f*f = 0\n",
    "``` \n",
    "However, a particular implementation may choose to implement the addition in any order,\n",
    "and alternative orders may be considerably more efficient in hardware.\n",
    "\n",
    "Simulating different orders by permuting the vector elements, we observe the following results\n",
    "\n",
    "  - `[ f -f  f -f] . [f f f f] = 0                     <- ` Correct answer\n",
    "  - `[ -f -f f  f] . [f f f f] = -F16MAX + 2F `$\\approx$`  F      <- ` Incorrect answer, but finite\n",
    "  - `[ f  f -f -f] . [f f f f] = F16MAX - 2F `$\\approx$`   -F      <- ` Incorrect answer, but finite\n",
    "\n",
    "So the dot product can be maximally erroneous, with no signal that overflow has occurred.\n",
    "[Footnote: Implementations might record overflow using other flag mechanisms, but the programmer \n",
    "who checks such flags can equally check the return value under `OvNAN` and `OvINF`.]\n",
    "\n",
    "##### OvNAN\n",
    "\n",
    "When implemented with `OvNAN`, the latter two orderings will yield `NaN`, signalling that overflow has occurred.\n",
    "\n",
    "##### OvINF\n",
    "\n",
    "When implemented with `OvINF`, the latter two orderings will yield `-Inf` and `+Inf` respectively, again signalling that overflow has occurred.  It might be thought that the sign of the infinity conveys more information than the single NaN, and in the experiments below, this will prove to be empirically somewhat true, but let us first observe that `OvINF` may often produce `NaN` results.\n",
    "If, as is common, reduction is performed hierarchically, then the computation might be \n",
    "```\n",
    "  [ f  f -f -f] . [f f f f] = [f f] . [f f] + [-f -f] . [f f] = Inf + -Inf = NaN\n",
    "```\n",
    "\n",
    "Thus, and particularly as vectors increase in length, `OvINF` appears to have the property that it will frequently return no more information than `OvNAN`.\n",
    "This is explored experimentally below.\n"
   ]
  },
  {
   "cell_type": "markdown",
   "metadata": {},
   "source": [
    "\n",
    "### Summary\n",
    "\n",
    "Under the various options, we observe the following answers\n",
    "\n",
    "| Computation               | OvSAT      | 0vINF | OvNAN |\n",
    "| ------------------------- | ---------- | ----- | ----- |\n",
    "| `[ f -f  f -f] . [f f f f]` | 0          | 0     | 0     |\n",
    "| `[ -f -f f  f] . [f f f f]` | 34848.0    | Inf   | NaN   | \n",
    "| `[ f  f -f -f] . [f f f f]` | -34848.0   | -Inf  | NaN   |\n",
    "| `[f f] . [f f] + [-f -f] . [f f]` | 0    | NaN   | NaN   |\n"
   ]
  },
  {
   "cell_type": "markdown",
   "metadata": {},
   "source": [
    "## From theory to practice\n",
    "\n",
    "The above discussion shows that `OvSAT` may be arbitrarily and silently incorrect, surely an alarming state of affairs.  And yet, it has been used in practice to train large deep learning models, apparently without notable ill effects.\n",
    "\n",
    "In order to explore this question, let us empirically ask some simple questions:\n",
    "\n",
    "  - Although in theory, errors can be large, how large are they in practice?\n",
    "  - Does the +/-Inf signal offer potentially lower errors on average (e.g. replace +/-Inf with +/-F/2)?\n",
    "  - How often does hierarchical reduction under `OvINF` in fact yield `NaN`?\n",
    "\n"
   ]
  },
  {
   "cell_type": "code",
   "execution_count": 1,
   "metadata": {},
   "outputs": [],
   "source": [
    "# First, some preliminaries\n",
    "\n",
    "import ml_dtypes\n",
    "import numpy as np\n",
    "import jax\n",
    "import jax.numpy as jnp\n",
    "import pandas\n",
    "import matplotlib.pyplot as plt\n",
    "from tqdm import tqdm\n",
    "\n",
    "# Float formatter\n",
    "def fstr(v):\n",
    "  if np.isfinite(v):\n",
    "    return repr(v)\n",
    "  if np.isnan(v):\n",
    "    return 'NaN'\n",
    "  if v == np.inf:\n",
    "    return \"+Inf\"\n",
    "  if v == -np.inf:\n",
    "    return \"-Inf\"\n",
    "  raise ValueError(f\"Bad {v=}\")\n",
    "\n",
    "def rms(x):\n",
    "  return np.sqrt(((x)**2).mean())\n",
    "\n",
    "jnp.set_printoptions(threshold=1, infstr='Inf', nanstr='NaN') "
   ]
  },
  {
   "cell_type": "markdown",
   "metadata": {},
   "source": [
    "To generate plausible distributions, we can look at the literature on low-precision training.\n",
    "For example, from [1], we obtain these typical histograms of weights and activations in a transformer model:\n",
    "\n",
    "| ![image](saturation-transformer-activations.png) | ![image](saturation-transformer-weights.png)|\n",
    "| - | - |\n",
    "\n",
    "We will try to match these qualitatively if not exactly, and we shall set the overall scale to best use dynamic range (i.e. if FLOAT_MAX=224, we will scale vectors to have maximum value 192).This value is approximately the square root of `float16.FLOAT_MAX`, as used in the theoretical worst-case examples above, but of course very few vector elements will have this value.  \n",
    "\n",
    "[1] __8-bit Numerical Formats for Deep Neural Networks__, Badreddine Noune, Philip Jones, Daniel Justus, Dominic Masters, Carlo Luschi, 2022. https://arxiv.org/abs/2206.02915"
   ]
  },
  {
   "cell_type": "code",
   "execution_count": 2,
   "metadata": {},
   "outputs": [
    {
     "data": {
      "image/png": "[encoded data removed]",
      "text/plain": [
       "<Figure size 640x480 with 1 Axes>"
      ]
     },
     "metadata": {},
     "output_type": "display_data"
    }
   ],
   "source": [
    "# Generate distributions qualitatively matching https://arxiv.org/abs/2206.02915\n",
    "def randvals(*args):\n",
    "  v = np.random.randn(*args)\n",
    "  v = np.clip(v, -4, 4)\n",
    "  return v**2 * np.sign(v)\n",
    "\n",
    "v1 = randvals(10000)\n",
    "\n",
    "plt.hist(np.log2(np.abs(v1)), bins=np.arange(-24,6,.25))\n",
    "plt.yscale('log')"
   ]
  },
  {
   "cell_type": "markdown",
   "metadata": {},
   "source": [
    "## Define partials type, and convert function\n",
    "\n",
    "Let us choose `float16` as a partials type.\n",
    "\n",
    "We implement `convert` with a flag to select between `OvSAT` and `OvINF`.\n",
    "The behaviour of `OvNAN` can easily be inferred from the latter."
   ]
  },
  {
   "cell_type": "code",
   "execution_count": 3,
   "metadata": {},
   "outputs": [
    {
     "name": "stderr",
     "output_type": "stream",
     "text": [
      "No GPU/TPU found, falling back to CPU. (Set TF_CPP_MIN_LOG_LEVEL=0 and rerun for more info.)\n"
     ]
    },
    {
     "name": "stdout",
     "output_type": "stream",
     "text": [
      "512 float(convert(jnp.array(v), np.float16, OvSAT))=512.0\n",
      "512 float(convert(jnp.array(v), np.float16, OvINF))=512.0\n",
      "65505 float(convert(jnp.array(v), np.float16, OvSAT))=65504.0\n",
      "65505 float(convert(jnp.array(v), np.float16, OvINF))=65504.0\n",
      "66666 float(convert(jnp.array(v), np.float16, OvSAT))=65504.0\n",
      "66666 float(convert(jnp.array(v), np.float16, OvINF))=inf\n"
     ]
    }
   ],
   "source": [
    "OvSAT = True\n",
    "OvINF = False\n",
    "def convert(val, dtype, saturate=False):\n",
    "  max = ml_dtypes.finfo(dtype).max\n",
    "  if saturate == OvSAT:\n",
    "    val = jnp.where(val > +max, +max, val)\n",
    "    val = jnp.where(val < -max, -max, val)\n",
    "\n",
    "  return val.astype(dtype)\n",
    "\n",
    "for v in (512, 65505, 66666):\n",
    "  print(f'{v} {float(convert(jnp.array(v), np.float16, OvSAT))=}')\n",
    "  print(f'{v} {float(convert(jnp.array(v), np.float16, OvINF))=}')\n"
   ]
  },
  {
   "cell_type": "markdown",
   "metadata": {},
   "source": [
    "## Define dot product\n",
    "\n",
    "We define a dot product that obeys the overflow flags.  It additionally takes a parameter `BLK` which defines the sub-block size over which accumulation is performed."
   ]
  },
  {
   "cell_type": "code",
   "execution_count": 4,
   "metadata": {},
   "outputs": [],
   "source": [
    "partials_dtype = np.float16\n",
    "partials_max = ml_dtypes.finfo(partials_dtype).max\n",
    "\n",
    "def mul_f8_to_f16(a, b, saturate=False):\n",
    "    v = a.astype(partials_dtype) * b.astype(partials_dtype)\n",
    "    return convert(v, partials_dtype, saturate)\n",
    "\n",
    "def sum_f16(v, saturate=False, BLK=16):\n",
    "  total = partials_dtype(0)\n",
    "  for i in range(0,len(v),BLK):\n",
    "    partial = convert(jnp.sum(v[i:i+BLK]), partials_dtype, saturate)\n",
    "    total = convert(total.astype(float) + partial.astype(float), partials_dtype, saturate)\n",
    "  return total\n",
    "\n",
    "def dot_f8(a, b, saturate=False, BLK=16):\n",
    "  assert a.size % BLK == 0\n",
    "  v = mul_f8_to_f16(a,b, saturate=saturate)\n",
    "  return sum_f16(v, saturate=saturate, BLK=BLK)"
   ]
  },
  {
   "cell_type": "markdown",
   "metadata": {},
   "source": [
    "And check that it agrees with theory above"
   ]
  },
  {
   "cell_type": "code",
   "execution_count": 5,
   "metadata": {},
   "outputs": [
    {
     "name": "stdout",
     "output_type": "stream",
     "text": [
      "check(OvSAT, 1, [f, -f, f, -f])=0.0          <-- Correct\n",
      "check(OvSAT, 1, [f, f, -f, -f])=-34848.0     <-- Incorrect, silently\n",
      "check(OvSAT, 1, [-f, -f, f, f])=34848.0      <-- Incorrect, silently\n",
      "\n",
      "check(OvINF, 1, [f, -f, f, -f])=0.0          <-- Correct\n",
      "check(OvINF, 1, [f, f, -f, -f])=inf          <-- Incorrect, detectable\n",
      "check(OvINF, 1, [-f, -f, f, f])=-inf         <-- Incorrect, detectable\n",
      "\n",
      "check(OvINF, 2, [-f, -f, f, f])=nan          <-- NaN, rather than +/-Inf\n"
     ]
    }
   ],
   "source": [
    "# Pick an F8 type and make a value\n",
    "f8_t = ml_dtypes.float8_e4m3fn\n",
    "f = f8_t(224)\n",
    "\n",
    "v2 = np.array([f, f, f, f])\n",
    "check = lambda sat,blk,v1: dot_f8(jnp.array(v1), v2, saturate=sat, BLK=blk)\n",
    "print(f'{check(OvSAT, 1, [f, -f, f, -f])=:<12} <-- Correct')\n",
    "print(f'{check(OvSAT, 1, [f, f, -f, -f])=:<12} <-- Incorrect, silently')\n",
    "print(f'{check(OvSAT, 1, [-f, -f, f, f])=:<12} <-- Incorrect, silently')\n",
    "print()\n",
    "print(f'{check(OvINF, 1, [f, -f, f, -f])=:<12} <-- Correct')\n",
    "print(f'{check(OvINF, 1, [f, f, -f, -f])=:<12} <-- Incorrect, detectable')\n",
    "print(f'{check(OvINF, 1, [-f, -f, f, f])=:<12} <-- Incorrect, detectable')\n",
    "print()\n",
    "print(f'{check(OvINF, 2, [-f, -f, f, f])=:<12} <-- NaN, rather than +/-Inf')\n"
   ]
  },
  {
   "cell_type": "markdown",
   "metadata": {},
   "source": [
    "## Generate random vectors, and dot-product them\n",
    "\n",
    "Let us now generate random vectors, sized to match typical modern deep learning models.\n",
    "For each pair, record the \"true\" answer, computed in float32, and the `OvSAT` and `OvINF` answers.\n"
   ]
  },
  {
   "cell_type": "code",
   "execution_count": 6,
   "metadata": {},
   "outputs": [
    {
     "name": "stdout",
     "output_type": "stream",
     "text": [
      "v1.max()=112\n"
     ]
    },
    {
     "name": "stderr",
     "output_type": "stream",
     "text": [
      "100%|██████████| 50/50 [00:17<00:00,  2.92it/s, n_inf=4110]\n"
     ]
    }
   ],
   "source": [
    "# Make some random data, scaled so max in each row = scale\n",
    "def mkrand(scale, n_rows, n):\n",
    "  v = randvals(n_rows, n)\n",
    "  row_maxima = np.abs(v).max(axis=1)\n",
    "  return v / row_maxima.reshape(n_rows,1) * scale\n",
    "\n",
    "N = 2048\n",
    "scale = 192.0\n",
    "v1 = mkrand(scale, 1, N).astype(f8_t)\n",
    "print(f'{v1.max()=}')\n",
    "\n",
    "n_batches = 100\n",
    "n_batch = 1000\n",
    "\n",
    "def mkvals(v1, v2):\n",
    "  dot_true = jnp.dot(v1.astype(float), v2.astype(float))\n",
    "  dot_true16 = convert(dot_true, partials_dtype, saturate=OvINF)\n",
    "  dot_ovsat = dot_f8(v1, v2, saturate=OvSAT)\n",
    "  dot_ovinf = dot_f8(v1, v2, saturate=OvINF)\n",
    "  return dot_true, dot_true16, dot_ovsat, dot_ovinf\n",
    "\n",
    "if n_batches > 5:\n",
    "  mkvals = jax.jit(mkvals)\n",
    "\n",
    "batch_mkvals = jax.vmap(mkvals, (0, 0), 0)\n",
    "\n",
    "dfs = []\n",
    "n_inf = 0\n",
    "with tqdm(range(n_batches)) as t: \n",
    " for _ in t:\n",
    "  v1 = mkrand(scale, n_batch, N).astype(f8_t)\n",
    "  v1 = np.abs(v1) # v1 always positive (consider relu actvations, but the zeros will have the effect of halving the vector size)\n",
    "  v2 = mkrand(scale, n_batch, N).astype(f8_t)\n",
    "\n",
    "  dots = batch_mkvals(v1, v2)\n",
    "\n",
    "  dot_true, dot_true16, dot_ovsat, dot_ovinf = dots\n",
    "  n_inf += (~np.isfinite(dot_true16)).sum()\n",
    "\n",
    "  t.set_postfix_str(f'{n_inf=}')\n",
    "\n",
    "  df = pandas.DataFrame(np.transpose(dots), columns=('true', 'true16', 'ovsat', 'ovinf'))\n",
    "\n",
    "  dfs.append(df)\n",
    "\n",
    "df = pandas.concat(dfs)\n"
   ]
  },
  {
   "cell_type": "markdown",
   "metadata": {},
   "source": [
    "## Examine the results\n",
    "\n",
    "Let us first look at how many samples had answers that were in range.  This turns out to be reasonably high: about 95% of vectors of length 2048 are in range.  Furthermore, of that 95%, relatively few (2-3%) encountered overflow in the partials, which would have led to silently incorrect dot products. This is one indication why training is not greatly affected by the errors.  Nevertheless, 2-3% of values being arbitrarily wrong remains a potentially alarming situation.\n",
    "\n",
    "We also count the number of times infinities cancelled to yield NaN.  Given that only a small percentage sees any Infs, it is unsuprising that this proportion is typically very low (typically 0 in the 10,000 element runs). "
   ]
  },
  {
   "cell_type": "code",
   "execution_count": 7,
   "metadata": {},
   "outputs": [
    {
     "name": "stdout",
     "output_type": "stream",
     "text": [
      "in-range results: 95.9%\n",
      "in-range results, partials overflowed: 3.0%\n",
      "NaNs under ovinf: 0\n"
     ]
    },
    {
     "data": {
      "image/png": "[encoded data removed]",
      "text/plain": [
       "<Figure size 640x480 with 1 Axes>"
      ]
     },
     "metadata": {},
     "output_type": "display_data"
    }
   ],
   "source": [
    "true16_is_finite = np.isfinite(df['true16'])\n",
    "partials_overflowed = ~np.isfinite(df['ovinf'])\n",
    "\n",
    "print(f'in-range results: {true16_is_finite.mean() * 100:.1f}%')\n",
    "print(f'in-range results, partials overflowed: {(true16_is_finite * partials_overflowed).mean() * 100:.1f}%')\n",
    "plt.hist(np.clip(df['true16'], *(partials_max*1.2*np.array([-1, 1]))), bins=100)\n",
    "\n",
    "print(f\"NaNs under ovinf: {np.isnan(df['ovinf']).sum()}\")\n"
   ]
  },
  {
   "cell_type": "markdown",
   "metadata": {},
   "source": [
    "## Replacing OvSAT with OvINF\n",
    "\n",
    "A common reason to use OvSAT is simply \"to avoid NaNs\" - the practitioner does not know what to do in the presence of a non-finite result.  A simple fix is to replace +/-Inf with +/-FLOAT_MAX, and to replace NaN with 0. This offers no better or worse a theoretical guarantee (any true value could map to +/-Inf), nor does it promise to exactly emulate `OvSAT`, but it represents a principled way to handle overflows while avoiding silent incorrectness.\n",
    "\n",
    "It might also be considered wise to to replace +/-Inf with zero, attempting to minimize the maximum error,\n",
    "or to +/-FLOAT_MAX/2, making an assumption that a positive overflow will often correspond with a positive infinite-precision value.\n",
    "\n",
    "To explore this question, we plot the true result against the result with saturation:"
   ]
  },
  {
   "cell_type": "code",
   "execution_count": 8,
   "metadata": {},
   "outputs": [
    {
     "data": {
      "text/plain": [
       "<Axes: xlabel='true'>"
      ]
     },
     "execution_count": 8,
     "metadata": {},
     "output_type": "execute_result"
    },
    {
     "data": {
      "image/png": "[encoded data removed]",
      "text/plain": [
       "<Figure size 640x480 with 1 Axes>"
      ]
     },
     "metadata": {},
     "output_type": "display_data"
    }
   ],
   "source": [
    "\n",
    "ovinf_best_fit = df[partials_overflowed].copy()\n",
    "ovinf_best_fit[np.isnan(ovinf_best_fit['ovinf'])] = 0\n",
    "ovinf_best_fit['ovinf'] = np.sign(ovinf_best_fit['ovinf']) * partials_max\n",
    "ovinf_best_fit['true16'] = np.clip(ovinf_best_fit['true16'], *(1.05*partials_max*np.array([-1, 1])))\n",
    "\n",
    "ovinf_best_fit.plot(x='true', style='.')\n",
    "# plt.xlim([-partials_max, partials_max])\n",
    "# plt.ylim([-partials_max, partials_max])\n"
   ]
  },
  {
   "cell_type": "markdown",
   "metadata": {},
   "source": [
    "Observe that the orange dots are close to the Y=X line.\n",
    "That is, although the answer under `OvSAT` can be arbitrarily wrong, for these vectors, it is often relatively close.\n",
    "We can quantify this numerically, by computing RMS and Maximum error:"
   ]
  },
  {
   "cell_type": "code",
   "execution_count": 9,
   "metadata": {},
   "outputs": [
    {
     "name": "stdout",
     "output_type": "stream",
     "text": [
      "rms_err_ovsat= 19507.33 max_err_ovsat= 107361.53\n"
     ]
    }
   ],
   "source": [
    "\n",
    "rms_err_ovsat = rms(ovinf_best_fit['ovsat'] - ovinf_best_fit['true'])\n",
    "max_err_ovsat = np.abs(ovinf_best_fit['ovsat'] - ovinf_best_fit['true']).max()\n",
    "print(f'{rms_err_ovsat= :.2f} {max_err_ovsat= :.2f}')"
   ]
  },
  {
   "cell_type": "markdown",
   "metadata": {},
   "source": [
    "And compare these numbers to the RMS and Maximum error for OvINF:"
   ]
  },
  {
   "cell_type": "code",
   "execution_count": 10,
   "metadata": {},
   "outputs": [
    {
     "name": "stdout",
     "output_type": "stream",
     "text": [
      "rms_err_ovinf= 19325.17 max_err_ovinf= 105153.53\n"
     ]
    }
   ],
   "source": [
    "rms_err_ovinf = rms(ovinf_best_fit['ovinf'] - ovinf_best_fit['true'])\n",
    "max_err_ovinf = np.abs(ovinf_best_fit['ovinf'] - ovinf_best_fit['true']).max()\n",
    "print(f'{rms_err_ovinf= :.2f} {max_err_ovinf= :.2f}')"
   ]
  },
  {
   "cell_type": "markdown",
   "metadata": {},
   "source": [
    "Typically we find that the maximum and RMS errors (against the true float32 result) are roughly the same for both SAT and INF."
   ]
  },
  {
   "cell_type": "markdown",
   "metadata": {},
   "source": [
    "## Conclusion\n",
    "\n",
    "From a theoretical point of view, the `OvINF` handling of overflow is attractive.\n",
    "It offers a clear signal when overflow occurs, and a clear route to follow if a given\n",
    "application would prefer to proceed as if the overflow had not happened.\n",
    "\n",
    "In practice, `OvSAT` has proven effective in training deep learning models despite\n",
    "its theoretical weaknesses.  This notebook suggests that for the distributions of values\n",
    "encountered in deep learning, its average-case errors are not excessive.\n",
    "\n",
    "Depending on a system's sensitivity to worst-case or average-case error, either \n",
    "procedure may be chosen.  It appears that an FP8 format would usefully support\n",
    "both modes.  If a single mode were preferred, and given that `OvSAT` can be \n",
    "reasonably approximated using `OvINF` system, but not in the other direction, \n",
    "we might choose `OvINF` as the single mode.\n"
   ]
  },
  {
   "cell_type": "code",
   "execution_count": 11,
   "metadata": {},
   "outputs": [
    {
     "name": "stdout",
     "output_type": "stream",
     "text": [
      "[NbConvertApp] Converting notebook saturation.ipynb to pdf\n",
      "/home/awf/anaconda3/envs/ml_dtypes/lib/python3.9/site-packages/nbconvert/utils/pandoc.py:51: RuntimeWarning: You are using an unsupported version of pandoc (2.5).\n",
      "Your version must be at least (2.14.2) but less than (4.0.0).\n",
      "Refer to https://pandoc.org/installing.html.\n",
      "Continuing with doubts...\n",
      "  check_pandoc_version()\n",
      "[NbConvertApp] Support files will be in saturation_files/\n",
      "[NbConvertApp] Making directory ./saturation_files\n",
      "[NbConvertApp] Writing 57897 bytes to notebook.tex\n",
      "[NbConvertApp] Building PDF\n",
      "[NbConvertApp] Running xelatex 3 times: ['xelatex', 'notebook.tex', '-quiet']\n",
      "[NbConvertApp] Running bibtex 1 time: ['bibtex', 'notebook']\n",
      "[NbConvertApp] WARNING | bibtex had problems, most likely because there were no citations\n",
      "[NbConvertApp] PDF successfully created\n",
      "[NbConvertApp] Writing 232738 bytes to saturation.pdf\n"
     ]
    }
   ],
   "source": [
    "!jupyter-nbconvert --to pdf saturation.ipynb "
   ]
  }
 ],
 "metadata": {
  "kernelspec": {
   "display_name": "ml_dtypes",
   "language": "python",
   "name": "python3"
  },
  "language_info": {
   "codemirror_mode": {
    "name": "ipython",
    "version": 3
   },
   "file_extension": ".py",
   "mimetype": "text/x-python",
   "name": "python",
   "nbconvert_exporter": "python",
   "pygments_lexer": "ipython3",
   "version": "3.9.16"
  },
  "orig_nbformat": 4,
  "title": "Exploring saturation in low-precision dot products"
 },
 "nbformat": 4,
 "nbformat_minor": 2
}
