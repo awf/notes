{
 "cells": [
  {
   "cell_type": "markdown",
   "metadata": {},
   "source": [
    "## Preliminaries"
   ]
  },
  {
   "cell_type": "code",
   "execution_count": 44,
   "metadata": {},
   "outputs": [],
   "source": [
    "from ml_dtypes import bfloat16\n",
    "import ml_dtypes\n",
    "import numpy as np\n",
    "from decimal import Decimal\n",
    "import pandas\n",
    "import matplotlib.pyplot as plt\n",
    "from tqdm import tqdm\n",
    "\n",
    "# Float formatter\n",
    "def fstr(v):\n",
    "  if np.isfinite(v):\n",
    "    return repr(v)\n",
    "  if np.isnan(v):\n",
    "    return 'NaN'\n",
    "  if v == np.inf:\n",
    "    return \"+Inf\"\n",
    "  if v == -np.inf:\n",
    "    return \"-Inf\"\n",
    "  raise ValueError(f\"Bad {v=}\")\n",
    "\n",
    "def rms(x):\n",
    "  return np.sqrt(((x)**2).mean())\n"
   ]
  },
  {
   "cell_type": "markdown",
   "metadata": {},
   "source": [
    "## Exploring saturation\n",
    "\n",
    "An important computation in FP8 is dot product, typically with float8 operands and a higher precision result (e.g. float16), in which the summation is also evaluated.\n",
    "Given the narrow dynamic range of float16, and the relatively large vector sizes in modern models (2K-12K), it is likely that some of these dot products will overflow the float16 dynamic range.  And even if the value `dot(a,b)` is within the finite range for some vectors `a` and `b`, it is possible for the result to overflow during computation.\n",
    "As a simple example, if the partial sums are `[a a a a -a -a -a -a]`, for large finite value `a`, and the vector is accumulated sequentially, the sum of four `a`s may overflow, \n",
    "even though the result is zero, perfectly in range.\n",
    "\n",
    "Therefore, hardware implementations provide several options to treat overflow, even in float16: saturation, NaN on overflow, and overflow to infinity.\n",
    "\n",
    "More precisely, if `v` in the following is the real value to be converted, rounded to the float16 precision, but with infinite precision exponent,\n",
    "we can specify these behaviours by defining what is returned when `abs(v) > FLOAT_MAX`:\n",
    " - `OvSAT`: Saturation: `sign(v)*FLOAT_MAX`\n",
    " - `OvNAN`: NaN on overflow: `NaN`\n",
    " - `OvINF`: Infinity: `sign(v)*Inf`\n",
    "\n",
    "##### OvSAT \n",
    "\n",
    "A critique of `OvSAT` is that it may produce results that are arbitrarily wrong, as overflows early in accumulation may be silently ignored.\n",
    "As an extreme example, consider an 8-bit format `float8` where the value `f = 224` is in the finite range.\n",
    "Then the value `F = f * f` is close to `float16.FLOAT_MAX`, and `F + F` is much larger than `float16.FLOAT_MAX`.\n",
    "\n",
    "Consider the dot product of the 4-vectors `a = [ f -f  f -f]`, `b = [f f f f]`.\n",
    "Evaluated left-to-right, the result is\n",
    "```\n",
    "   ((f*f - f*f) + f*f) - f*f = 0\n",
    "``` \n",
    "However, a particular implementation may choose to implement the addition in any order,\n",
    "and alternative orders may be considerably more efficient in hardware.\n",
    "\n",
    "Simulating different orders by permuting the vector elements, we observe the following results\n",
    " - `[ f -f  f -f] . [f f f f] = 0     <- ` Correct answer\n",
    " - `[ -f -f f  f] . [f f f f] = F     <- ` Incorrect answer, but finite\n",
    " - `[ f  f -f -f] . [f f f f] = -F    <- ` Incorrect answer, but finite\n",
    "\n",
    "So the dot product can be maximally erroneous, with no signal that overflow has occurred.\n",
    "[Footnote: Implementations might record overflow using other flag mechanisms, but the programmer \n",
    "who checks such flags can equally check `OvNAN` and `OvINF`.]\n",
    "\n",
    "##### OvNAN\n",
    "\n",
    "When implemented with `OvNAN`, the latter two orderings will yield `NaN`, signalling that overflow has occurred.\n",
    "\n",
    "##### OvINF\n",
    "\n",
    "When implemented with `OvINF`, the latter two orderings will yield `-Inf` and `+Inf` respectively, again signalling that overflow has occurred.  It might be thought that the sign of the infinity conveys more information than the single NaN, and in the experiments below, this will prove to be empirically somewhat true, but let us first observe that `OvINF` may often produce `NaN` results.\n",
    "If, as is common, reduction is performed hierarchically, then the computation might be written\n",
    " - `[ f  f -f -f] . [f f f f] = [f f] . [f f] + [-f -f] . [f f] = Inf + -Inf = NaN`\n",
    "\n",
    "Thus, and particularly as vectors increase in length, `OvINF` appears to have the property that it will frequently return no more information than `OvNAN`.\n",
    "This is explored experimentally below."
   ]
  },
  {
   "cell_type": "markdown",
   "metadata": {},
   "source": [
    "## From theory to practice\n",
    "\n",
    "The above discussion shows that `OvSAT` may be arbitrarily and silently incorrect, surely a alarming state of affairs.  And yet, it has been used in practice to train large deep learning models, apparently without notable ill effects.\n",
    "\n",
    "In order to explore this question, let us empirically ask some simple questions:\n",
    " - Although in theory, errors can be large, how large are they in practice?\n",
    " - Does the +/-Inf signal offer potentially lower errors on average (e.g. replace +/-Inf with +/-F/2)?\n",
    " - How often does hierarchical reduction under `OvINF` in fact yield `NaN`?\n",
    "\n"
   ]
  },
  {
   "cell_type": "markdown",
   "metadata": {},
   "source": [
    "To generate plausible distributions, we can look at the literature on low-precision training.\n",
    "For example, from [1], we obtain these typical histograms of weights and activations in a transformer model:\n",
    "\n",
    "| ![image](saturation-transformer-activations.png) | ![image](saturation-transformer-weights.png)|\n",
    "| - | - |\n",
    "\n",
    "We will try to match these qualitatively if not exactly, and we shall set the overall scale to best use dynamic range (i.e. if FLOAT_MAX=224, we will scale vectors to have maximum value 192).This value is approximately the square root of `float16.FLOAT_MAX`, as used in the theoretical worst-case examples above, but of course very few vector elements will have this value.  \n",
    "\n",
    "[1] __8-bit Numerical Formats for Deep Neural Networks__, Badreddine Noune, Philip Jones, Daniel Justus, Dominic Masters, Carlo Luschi, 2022. https://arxiv.org/abs/2206.02915"
   ]
  },
  {
   "cell_type": "code",
   "execution_count": 45,
   "metadata": {},
   "outputs": [
    {
     "data": {
      "image/png": "[encoded data removed]",
      "text/plain": [
       "<Figure size 640x480 with 1 Axes>"
      ]
     },
     "metadata": {},
     "output_type": "display_data"
    }
   ],
   "source": [
    "# Generate distributions qualitatively matching https://arxiv.org/abs/2206.02915\n",
    "def randvals(n):\n",
    "  v = np.random.randn(n)\n",
    "  v = np.clip(v, -4, 4)\n",
    "  return v**2 * np.sign(v)\n",
    "\n",
    "v1 = randvals(10000)\n",
    "\n",
    "plt.hist(np.log2(np.abs(v1)), bins=np.arange(-24,6,.25))\n",
    "plt.yscale('log')"
   ]
  },
  {
   "cell_type": "markdown",
   "metadata": {},
   "source": [
    "## Define partials type, and convert function\n",
    "\n",
    "Let us choose `float16`` as a partials type.\n",
    "\n",
    "We implement `convert` with a flag to select between `OvSAT` and `OvINF`.\n",
    "The behaviour of `OvNAN` can easily be inferred from the latter."
   ]
  },
  {
   "cell_type": "code",
   "execution_count": 46,
   "metadata": {},
   "outputs": [
    {
     "name": "stdout",
     "output_type": "stream",
     "text": [
      "float(partials_min)=5.960464477539063e-08 float(partials_max)=65504.0\n",
      "65504.0\n",
      "inf\n"
     ]
    }
   ],
   "source": [
    "partials_dtype=np.float16\n",
    "partials_max = ml_dtypes.finfo(partials_dtype).max\n",
    "partials_min = ml_dtypes.finfo(partials_dtype).smallest_subnormal\n",
    "print(f'{float(partials_min)=} {float(partials_max)=}')\n",
    "\n",
    "def convert(val, saturate=False):\n",
    "  if np.isscalar(val):\n",
    "    ovf = partials_max if saturate else np.inf\n",
    "    if val > partials_max: \n",
    "      return ovf\n",
    "    if val < -partials_max: \n",
    "      return -ovf\n",
    "    return partials_dtype(val)\n",
    "  else:\n",
    "    if saturate:\n",
    "      val[val > partials_max] = partials_max\n",
    "      val[val < -partials_max] = -partials_max\n",
    "    return val.astype(partials_dtype)\n",
    "\n",
    "print(f'{convert(66666, True)}')\n",
    "print(f'{convert(66666, False)}')\n"
   ]
  },
  {
   "cell_type": "markdown",
   "metadata": {},
   "source": [
    "## Define dot product\n",
    "\n",
    "We define a dot product that obeys the overflow flags:"
   ]
  },
  {
   "cell_type": "code",
   "execution_count": 47,
   "metadata": {},
   "outputs": [],
   "source": [
    "def mul_f8_to_f16(a, b, saturate=False):\n",
    "    v = a.astype(partials_dtype) * b.astype(partials_dtype)\n",
    "    return convert(v, saturate)\n",
    "\n",
    "def sum_f16(v, saturate=False, BLK=16):\n",
    "  total = partials_dtype(0)\n",
    "  for i in range(0,len(v),BLK):\n",
    "    partial = np.sum(v[i:i+BLK])\n",
    "    total = convert(float(total) + float(partial), saturate)\n",
    "  return total\n",
    "\n",
    "def dot_f8(a, b, saturate=False, BLK=16):\n",
    "  v = mul_f8_to_f16(a,b, saturate=saturate)\n",
    "  return sum_f16(v, saturate=saturate, BLK=BLK)\n"
   ]
  },
  {
   "cell_type": "markdown",
   "metadata": {},
   "source": [
    "And check that it agrees with theory above"
   ]
  },
  {
   "cell_type": "code",
   "execution_count": 49,
   "metadata": {},
   "outputs": [
    {
     "name": "stdout",
     "output_type": "stream",
     "text": [
      "check(OvSAT, 1, [f, -f, f, -f])=0.0          <-- Correct\n",
      "check(OvSAT, 1, [f, f, -f, -f])=-34848.0     <-- Incorrect, silently\n",
      "check(OvSAT, 1, [-f, -f, f, f])=34848.0      <-- Incorrect, silently\n",
      "\n",
      "check(OvINF, 1, [f, -f, f, -f])=0.0          <-- Correct\n",
      "check(OvINF, 1, [f, f, -f, -f])=inf          <-- Incorrect, detectable\n",
      "check(OvINF, 1, [-f, -f, f, f])=-inf         <-- Incorrect, detectable\n",
      "\n",
      "check(OvINF, 2, [-f, -f, f, f])=nan          <-- NaN, rather than +/-Inf\n"
     ]
    }
   ],
   "source": [
    "# Pick an F8 type and make a value\n",
    "f8_t = ml_dtypes.float8_e4_p3109\n",
    "f = f8_t(224)\n",
    "\n",
    "OvSAT = True\n",
    "OvINF = False\n",
    "v2 = np.array([f, f, f, f])\n",
    "check = lambda sat,blk,v1: dot_f8(np.array(v1), v2, saturate=sat, BLK=blk)\n",
    "print(f'{check(OvSAT, 1, [f, -f, f, -f])=:<12} <-- Correct')\n",
    "print(f'{check(OvSAT, 1, [f, f, -f, -f])=:<12} <-- Incorrect, silently')\n",
    "print(f'{check(OvSAT, 1, [-f, -f, f, f])=:<12} <-- Incorrect, silently')\n",
    "print()\n",
    "print(f'{check(OvINF, 1, [f, -f, f, -f])=:<12} <-- Correct')\n",
    "print(f'{check(OvINF, 1, [f, f, -f, -f])=:<12} <-- Incorrect, detectable')\n",
    "print(f'{check(OvINF, 1, [-f, -f, f, f])=:<12} <-- Incorrect, detectable')\n",
    "print()\n",
    "print(f'{check(OvINF, 2, [-f, -f, f, f])=:<12} <-- NaN, rather than +/-Inf')\n"
   ]
  },
  {
   "cell_type": "markdown",
   "metadata": {},
   "source": [
    "## Generate random vectors, and dot-product them\n",
    "\n",
    "Let us now generate random vectors, sized to match typical modern deep learning models.\n",
    "For each pair, record the \"true\" answer, computed in float32, and the `OvSAT` and `OvINF` answers.\n"
   ]
  },
  {
   "cell_type": "code",
   "execution_count": 31,
   "metadata": {},
   "outputs": [
    {
     "name": "stdout",
     "output_type": "stream",
     "text": [
      "v1.max()=176\n"
     ]
    },
    {
     "name": "stderr",
     "output_type": "stream",
     "text": [
      "100%|██████████| 10000/10000 [00:19<00:00, 502.13it/s, n_inf=280]"
     ]
    },
    {
     "name": "stdout",
     "output_type": "stream",
     "text": [
      "in-range results: 95.9%\n",
      "in-range results, partials overflowed: 2.8%\n"
     ]
    },
    {
     "name": "stderr",
     "output_type": "stream",
     "text": [
      "\n"
     ]
    }
   ],
   "source": [
    "f8_t = ml_dtypes.float8_e4_p3109\n",
    "\n",
    "# Make some random positive data, scaled to max\n",
    "def mkrand(n, scale):\n",
    "  v = randvals(n)\n",
    "  return v / np.abs(v).max() * scale\n",
    "\n",
    "N = 2048\n",
    "scale = 192\n",
    "v1 = mkrand(N, scale).astype(f8_t)\n",
    "print(f'{v1.max()=}')\n",
    "\n",
    "errs = []\n",
    "n_samples = 10000\n",
    "n_inf = 0\n",
    "with tqdm(range(n_samples)) as t: \n",
    " for _ in t:\n",
    "  v1 = mkrand(N, scale).astype(f8_t)\n",
    "  v1 = np.abs(v1)\n",
    "  v2 = mkrand(N, scale).astype(f8_t)\n",
    "\n",
    "  dot_true = convert(np.dot(v1.astype(float), v2.astype(float)))\n",
    "  dot_ovsat = dot_f8(v1, v2, saturate=True)\n",
    "  dot_ovinf = dot_f8(v1, v2, saturate=False)\n",
    "\n",
    "  if np.isfinite(dot_ovsat) and np.isfinite(dot_ovinf):\n",
    "    assert dot_ovinf == dot_ovsat\n",
    "\n",
    "  if np.isfinite(dot_true) and np.isinf(dot_ovinf):\n",
    "    n_inf = n_inf + 1\n",
    "    t.set_postfix(n_inf=n_inf)\n",
    "    pass\n",
    "\n",
    "  errs.append((dot_true, dot_ovsat, dot_ovinf))\n",
    "\n",
    "df = pandas.DataFrame(errs, columns=('true', 'ovsat', 'ovinf'))\n",
    "\n",
    "print(f'in-range results: {np.isfinite(df[\"true\"]).sum()/n_samples * 100:.1f}%')\n",
    "print(f'in-range results, partials overflowed: {n_inf/n_samples * 100:.1f}%')\n"
   ]
  },
  {
   "cell_type": "markdown",
   "metadata": {},
   "source": [
    "## Examine the results\n",
    "\n",
    "Let us first look at how many samples had answers that were in range.  This turns out to be reasonably high: about 95% of vectors of length 2048 are in range.\n",
    "\n",
    "Furthermore, of that 95%, very few (~3%) encountered overflow in the partials.\n",
    "\n",
    "This is one indication why training is not greatly affected by the errors."
   ]
  },
  {
   "cell_type": "code",
   "execution_count": 32,
   "metadata": {},
   "outputs": [
    {
     "name": "stdout",
     "output_type": "stream",
     "text": [
      "in-range results: 95.9%\n",
      "in-range results, partials overflowed: 2.8%\n",
      "\n"
     ]
    },
    {
     "data": {
      "image/png": "[encoded data removed]",
      "text/plain": [
       "<Figure size 640x480 with 1 Axes>"
      ]
     },
     "metadata": {},
     "output_type": "display_data"
    }
   ],
   "source": [
    "print(f'in-range results: {np.isfinite(df[\"true\"]).sum()/n_samples * 100:.1f}%')\n",
    "print(f'in-range results, partials overflowed: {n_inf/n_samples * 100:.1f}%')\n",
    "plt.hist(np.clip(df['true'], *(partials_max*1.2*np.array([-1, 1]))), bins=100)\n",
    "print()"
   ]
  },
  {
   "cell_type": "markdown",
   "metadata": {},
   "source": [
    "## Replacing OvSAT with OvINF\n",
    "\n",
    "A common reason to use OvSAT is simply \"to avoid NaNs\" - the practitioner does not know what to do in the presence of a non-finite result.  A simple fix is to replace +/-Inf with +/-FLOAT_MAX/2.\n",
    "Given how rare overflow is, perhaps a result of +Inf most probably corresponds to a postive total.\n",
    "\n",
    "To explore this question, we plot the true result against the result with saturation:"
   ]
  },
  {
   "cell_type": "code",
   "execution_count": 33,
   "metadata": {},
   "outputs": [
    {
     "data": {
      "text/plain": [
       "(-65504.0, 65504.0)"
      ]
     },
     "execution_count": 33,
     "metadata": {},
     "output_type": "execute_result"
    },
    {
     "data": {
      "image/png": "[encoded data removed]",
      "text/plain": [
       "<Figure size 640x480 with 1 Axes>"
      ]
     },
     "metadata": {},
     "output_type": "display_data"
    }
   ],
   "source": [
    "true_is_finite = np.isfinite(df['true'])\n",
    "partials_overflowed = np.isinf(df['ovinf'])\n",
    "\n",
    "ovinf_best_fit = df[true_is_finite * partials_overflowed].copy()\n",
    "ovinf_best_fit['ovinf'] = np.sign(ovinf_best_fit['ovinf']) * partials_max/2\n",
    "\n",
    "ovinf_best_fit.plot(x='true', style='.')\n",
    "plt.xlim([-partials_max, partials_max])\n",
    "plt.ylim([-partials_max, partials_max])\n"
   ]
  },
  {
   "cell_type": "markdown",
   "metadata": {},
   "source": [
    "We can see that the blue dots are close to the Y=X line.\n",
    "That is, although the answer under `OvSAT` can be arbitrarily wrong, for these vectors, it is often relatively close.\n",
    "We can quantify this numerically, by computing RMS and Maximum error:"
   ]
  },
  {
   "cell_type": "code",
   "execution_count": 34,
   "metadata": {},
   "outputs": [
    {
     "name": "stdout",
     "output_type": "stream",
     "text": [
      "rms_err_ovsat= 10857.60 max_err_ovsat= 40176.00\n"
     ]
    }
   ],
   "source": [
    "\n",
    "rms_err_ovsat = rms(ovinf_best_fit['ovsat'] - ovinf_best_fit['true'])\n",
    "max_err_ovsat = np.abs(ovinf_best_fit['ovsat'] - ovinf_best_fit['true']).max()\n",
    "print(f'{rms_err_ovsat= :.2f} {max_err_ovsat= :.2f}')"
   ]
  },
  {
   "cell_type": "markdown",
   "metadata": {},
   "source": [
    "And compare these numbers to the RMS and Maximum error for OvINF:"
   ]
  },
  {
   "cell_type": "code",
   "execution_count": 35,
   "metadata": {},
   "outputs": [
    {
     "name": "stdout",
     "output_type": "stream",
     "text": [
      "rms_err_ovinf= 23231.37 max_err_ovinf= 43400.00\n"
     ]
    }
   ],
   "source": [
    "rms_err_ovinf = rms(ovinf_best_fit['ovinf'] - ovinf_best_fit['true'])\n",
    "max_err_ovinf = np.abs(ovinf_best_fit['ovinf'] - ovinf_best_fit['true']).max()\n",
    "print(f'{rms_err_ovinf= :.2f} {max_err_ovinf= :.2f}')"
   ]
  },
  {
   "cell_type": "markdown",
   "metadata": {},
   "source": [
    "Typically we find that although the maximum error is indeed worse for OvSAT, the RMS error is smaller, again suggesting why training under OvSAT is not adversely impacted."
   ]
  },
  {
   "cell_type": "markdown",
   "metadata": {},
   "source": [
    "## Conclusion\n",
    "\n",
    "From a theoretical point of view, the `OvINF` handling of overflow is attractive.\n",
    "It offers a clear signal when overflow occurs, and a clear route to follow if a given\n",
    "application would prefer to proceed as if the overflow had not happened.\n",
    "\n",
    "In practice, `OvSAT` has proven effective in training deep learning models despite\n",
    "its theoretical weaknesses.  This notebook suggests that for the distributions of values\n",
    "encountered in deep learning, its average-case errors are not excessive.\n",
    "\n",
    "Depending on a system's sensitivity to worst-case or average-case error, either \n",
    "procedure may be chosen.  It appears that an FP8 format would usefully support\n",
    "both modes.  If a single mode were preferred, and given that `OvSAT` can be \n",
    "reasonably approximated using `OvINF` system, but not in the other direction, \n",
    "we might choose `OvINF` as the single mode.\n"
   ]
  }
 ],
 "metadata": {
  "kernelspec": {
   "display_name": "ml_dtypes",
   "language": "python",
   "name": "python3"
  },
  "language_info": {
   "codemirror_mode": {
    "name": "ipython",
    "version": 3
   },
   "file_extension": ".py",
   "mimetype": "text/x-python",
   "name": "python",
   "nbconvert_exporter": "python",
   "pygments_lexer": "ipython3",
   "version": "3.9.16"
  },
  "orig_nbformat": 4
 },
 "nbformat": 4,
 "nbformat_minor": 2
}
